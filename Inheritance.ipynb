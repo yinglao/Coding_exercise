{
 "cells": [
  {
   "cell_type": "markdown",
   "metadata": {},
   "source": [
    "# Inheritance"
   ]
  },
  {
   "cell_type": "code",
   "execution_count": 243,
   "metadata": {
    "collapsed": false
   },
   "outputs": [],
   "source": [
    "import random\n",
    "import copy\n",
    "class Card:\n",
    "    '''represent a standard playing card\n",
    "    Spades → 3\n",
    "    Hearts → 2\n",
    "    Diamonds → 1\n",
    "    Clubs → 0\n",
    "    Jack → 11\n",
    "    Queen → 12\n",
    "    King → 13\n",
    "    '''\n",
    "    def __init__(self, suit = 0, rank = 2):\n",
    "        self.suit = suit\n",
    "        self.rank = rank\n",
    "    suit_names = ['Clubs', 'Diamonds', 'Hearts', 'Spades']\n",
    "    rank_names = [None, 'Ace', '2','3','4','5','6','7','8','9','10','Jack','Queen', 'King']\n",
    "    def __str__(self):\n",
    "        return Card.rank_names[self.rank] +'_of_' + Card.suit_names[self.suit]\n",
    "    def __lt__(self, other):\n",
    "        return (self.suit, self.rank) < (other.suit, self.rank)\n",
    "    \n",
    "class Deck:\n",
    "    def __init__(self):\n",
    "        self.cards = []\n",
    "        for suit in range(4):\n",
    "            for rank in range(1,14):\n",
    "                card = Card(suit = suit, rank = rank)\n",
    "                self.cards.append(card)\n",
    "    def __str__(self):\n",
    "        res = []\n",
    "        for card in self.cards:\n",
    "            res.append(str(card))\n",
    "        return '\\n'.join(res)\n",
    "    def pop_card(self):   ##the top of the deck is the last element of the list\n",
    "        return self.cards.pop()\n",
    "    def add_card(self, card):\n",
    "        self.cards.append(card)\n",
    "    def shuffle(self):\n",
    "        random.shuffle(self.cards)\n",
    "    def sort(self):\n",
    "        res1 = []\n",
    "        for card in self.cards:\n",
    "            suit, rank = card.suit, card.rank\n",
    "            res1.append((suit, rank))\n",
    "        res1.sort()\n",
    "        res2 = []\n",
    "        for card_suit, card_rank in res1:\n",
    "            res2.append(Card(suit = card_suit, rank = card_rank))\n",
    "        self.cards = res2\n",
    "    def move_cards(self, hand, num):\n",
    "        for i in range(num):\n",
    "            hand.add_card(self.pop_card())\n",
    "    '''\n",
    "    def deal_hands(self, hand_number = 2):\n",
    "        res = []\n",
    "        n = len(self.cards)\n",
    "        \n",
    "        for i in range(hand_number):\n",
    "            hand = Hand(label = 'hand_{0}'.format(i))\n",
    "            print (hand)\n",
    "            res.append(hand)\n",
    "        \n",
    "        j = 0\n",
    "        while j < n:\n",
    "            ind = j % hand_number\n",
    "            #print (ind)\n",
    "            self.move_cards(res[ind], 1)\n",
    "            #print(res[ind])\n",
    "            j = j + 1\n",
    "        \n",
    "        return res\n",
    "    '''\n",
    "    def deal_hands(self, hand_number = 2, card_number = 5):\n",
    "        res = []\n",
    "        n = len(self.cards)\n",
    "        for i in range(hand_number):\n",
    "            hand = Hand(label = 'hand_{0}'.format(i))\n",
    "            res.append(hand)\n",
    "        j = 0\n",
    "        k = 0\n",
    "        while k < card_number:\n",
    "            for hand in res:\n",
    "                self.move_cards(hand, 1)\n",
    "                j += 1\n",
    "                if j == n:\n",
    "                    return res\n",
    "            k += 1\n",
    "        #print (k, j)\n",
    "        return res\n",
    "#########################################################            \n",
    "\n",
    "class Hand(Deck):\n",
    "    def __init__(self, label = ''):\n",
    "        self.cards = []\n",
    "        self.label = label\n",
    "\n",
    "        \n",
    "def find_defining_class(obj, meth_name):\n",
    "    for ty in type(obj).mro():\n",
    "        if meth_name in ty.__dict__:\n",
    "            return ty"
   ]
  },
  {
   "cell_type": "code",
   "execution_count": 244,
   "metadata": {
    "collapsed": false
   },
   "outputs": [
    {
     "name": "stdout",
     "output_type": "stream",
     "text": [
      "9_of_Spades\n",
      "Jack_of_Clubs\n",
      "7_of_Diamonds\n",
      "5_of_Diamonds\n",
      "10_of_Diamonds\n",
      "8_of_Diamonds\n",
      "Queen_of_Spades\n",
      "Queen_of_Clubs\n",
      "Ace_of_Diamonds\n",
      "9_of_Clubs\n",
      "King_of_Diamonds\n",
      "6_of_Diamonds\n",
      "King_of_Spades\n",
      "3_of_Clubs\n",
      "8_of_Clubs\n",
      "Jack_of_Hearts\n",
      "7_of_Spades\n",
      "3_of_Spades\n",
      "8_of_Spades\n",
      "Ace_of_Spades\n",
      "10_of_Spades\n",
      "King_of_Clubs\n",
      "Queen_of_Diamonds\n",
      "7_of_Hearts\n",
      "4_of_Hearts\n",
      "10_of_Clubs\n",
      "8_of_Hearts\n",
      "6_of_Hearts\n",
      "6_of_Spades\n",
      "2_of_Diamonds\n",
      "Jack_of_Spades\n",
      "5_of_Spades\n",
      "4_of_Spades\n",
      "2_of_Clubs\n",
      "2_of_Hearts\n",
      "4_of_Diamonds\n",
      "10_of_Hearts\n",
      "4_of_Clubs\n",
      "3_of_Hearts\n",
      "Ace_of_Clubs\n",
      "5_of_Hearts\n",
      "6_of_Clubs\n",
      "Ace_of_Hearts\n",
      "3_of_Diamonds\n",
      "King_of_Hearts\n",
      "7_of_Clubs\n",
      "Jack_of_Diamonds\n",
      "9_of_Diamonds\n",
      "9_of_Hearts\n",
      "Queen_of_Hearts\n",
      "2_of_Spades\n",
      "5_of_Clubs\n",
      "------------------\n",
      "------------------\n",
      "5_of_Clubs\n",
      "Jack_of_Diamonds\n",
      "6_of_Clubs\n",
      "10_of_Hearts\n",
      "5_of_Spades\n",
      "8_of_Hearts\n",
      "King_of_Clubs\n",
      "7_of_Spades\n",
      "------------------\n",
      "2_of_Spades\n",
      "7_of_Clubs\n",
      "5_of_Hearts\n",
      "4_of_Diamonds\n",
      "Jack_of_Spades\n",
      "10_of_Clubs\n",
      "10_of_Spades\n",
      "Jack_of_Hearts\n",
      "------------------\n",
      "Queen_of_Hearts\n",
      "King_of_Hearts\n",
      "Ace_of_Clubs\n",
      "2_of_Hearts\n",
      "2_of_Diamonds\n",
      "4_of_Hearts\n",
      "Ace_of_Spades\n",
      "8_of_Clubs\n",
      "------------------\n",
      "9_of_Hearts\n",
      "3_of_Diamonds\n",
      "3_of_Hearts\n",
      "2_of_Clubs\n",
      "6_of_Spades\n",
      "7_of_Hearts\n",
      "8_of_Spades\n",
      "3_of_Clubs\n",
      "------------------\n",
      "9_of_Diamonds\n",
      "Ace_of_Hearts\n",
      "4_of_Clubs\n",
      "4_of_Spades\n",
      "6_of_Hearts\n",
      "Queen_of_Diamonds\n",
      "3_of_Spades\n",
      "King_of_Spades\n"
     ]
    }
   ],
   "source": [
    "deck = Deck()\n",
    "deck.shuffle()\n",
    "print (deck)\n",
    "print ('------------------')\n",
    "hand_num = 5\n",
    "hands = deck.deal_hands(hand_num, card_number = 8)\n",
    "for i in range(hand_num):\n",
    "    print ('------------------')\n",
    "    print (hands[i])\n",
    "#print ('------------------')\n",
    "#print (deck)\n",
    "#hand_new = Hand()\n",
    "#print (hand_new)"
   ]
  },
  {
   "cell_type": "code",
   "execution_count": 234,
   "metadata": {
    "collapsed": true
   },
   "outputs": [],
   "source": [
    "card1 = Card(suit = 1, rank = 12)\n",
    "card2 = Card(suit = 3, rank = 3)"
   ]
  },
  {
   "cell_type": "code",
   "execution_count": 186,
   "metadata": {
    "collapsed": false
   },
   "outputs": [
    {
     "data": {
      "text/plain": [
       "[]"
      ]
     },
     "execution_count": 186,
     "metadata": {},
     "output_type": "execute_result"
    }
   ],
   "source": [
    "hand = Hand()\n",
    "hand.cards"
   ]
  },
  {
   "cell_type": "code",
   "execution_count": 138,
   "metadata": {
    "collapsed": false
   },
   "outputs": [
    {
     "name": "stdout",
     "output_type": "stream",
     "text": [
      "Queen_of_Diamonds\n",
      "Queen_of_Hearts\n"
     ]
    }
   ],
   "source": [
    "print (card1)\n",
    "deck = Deck()\n",
    "deck.shuffle()\n",
    "hand = Hand(label = 'new_hand')\n",
    "card = deck.pop_card()\n",
    "hand.add_card(card)\n",
    "print (hand)"
   ]
  },
  {
   "cell_type": "code",
   "execution_count": 145,
   "metadata": {
    "collapsed": false
   },
   "outputs": [
    {
     "data": {
      "text/plain": [
       "__main__.Deck"
      ]
     },
     "execution_count": 145,
     "metadata": {},
     "output_type": "execute_result"
    }
   ],
   "source": [
    "hand = Hand()\n",
    "find_defining_class(hand, 'shuffle')"
   ]
  },
  {
   "cell_type": "code",
   "execution_count": 123,
   "metadata": {
    "collapsed": false
   },
   "outputs": [
    {
     "data": {
      "text/plain": [
       "True"
      ]
     },
     "execution_count": 123,
     "metadata": {},
     "output_type": "execute_result"
    }
   ],
   "source": [
    "card1 < card2"
   ]
  },
  {
   "cell_type": "code",
   "execution_count": 109,
   "metadata": {
    "collapsed": false
   },
   "outputs": [
    {
     "data": {
      "text/plain": [
       "'Queen_of_Diamonds'"
      ]
     },
     "execution_count": 109,
     "metadata": {},
     "output_type": "execute_result"
    }
   ],
   "source": [
    "str(card1)"
   ]
  },
  {
   "cell_type": "code",
   "execution_count": 124,
   "metadata": {
    "collapsed": false
   },
   "outputs": [
    {
     "name": "stdout",
     "output_type": "stream",
     "text": [
      "Ace_of_Clubs\n",
      "2_of_Clubs\n",
      "3_of_Clubs\n",
      "4_of_Clubs\n",
      "5_of_Clubs\n",
      "6_of_Clubs\n",
      "7_of_Clubs\n",
      "8_of_Clubs\n",
      "9_of_Clubs\n",
      "10_of_Clubs\n",
      "Jack_of_Clubs\n",
      "Queen_of_Clubs\n",
      "King_of_Clubs\n",
      "Ace_of_Diamonds\n",
      "2_of_Diamonds\n",
      "3_of_Diamonds\n",
      "4_of_Diamonds\n",
      "5_of_Diamonds\n",
      "6_of_Diamonds\n",
      "7_of_Diamonds\n",
      "8_of_Diamonds\n",
      "9_of_Diamonds\n",
      "10_of_Diamonds\n",
      "Jack_of_Diamonds\n",
      "Queen_of_Diamonds\n",
      "King_of_Diamonds\n",
      "Ace_of_Hearts\n",
      "2_of_Hearts\n",
      "3_of_Hearts\n",
      "4_of_Hearts\n",
      "5_of_Hearts\n",
      "6_of_Hearts\n",
      "7_of_Hearts\n",
      "8_of_Hearts\n",
      "9_of_Hearts\n",
      "10_of_Hearts\n",
      "Jack_of_Hearts\n",
      "Queen_of_Hearts\n",
      "King_of_Hearts\n",
      "Ace_of_Spades\n",
      "2_of_Spades\n",
      "3_of_Spades\n",
      "4_of_Spades\n",
      "5_of_Spades\n",
      "6_of_Spades\n",
      "7_of_Spades\n",
      "8_of_Spades\n",
      "9_of_Spades\n",
      "10_of_Spades\n",
      "Jack_of_Spades\n",
      "Queen_of_Spades\n",
      "King_of_Spades\n"
     ]
    }
   ],
   "source": [
    "deck = Deck()\n",
    "deck.shuffle()\n",
    "\n",
    "'''res1 = []\n",
    "for card in deck.cards:\n",
    "    res1.append((card.suit, card.rank))\n",
    "res1.sort()\n",
    "res1\n",
    "res2= []\n",
    "for card_suit, card_rank in res1:\n",
    "    res2.append(Card(suit = card_suit, rank = card_rank))\n",
    "for card in res2:\n",
    "    print (card)\n",
    "'''\n",
    "deck.sort()\n",
    "print (deck)"
   ]
  },
  {
   "cell_type": "markdown",
   "metadata": {},
   "source": [
    "## Exercise"
   ]
  },
  {
   "cell_type": "code",
   "execution_count": 218,
   "metadata": {
    "collapsed": false
   },
   "outputs": [
    {
     "name": "stdout",
     "output_type": "stream",
     "text": [
      "70933576\n",
      "70934408\n"
     ]
    }
   ],
   "source": [
    "class question:\n",
    "    def __init__(self):\n",
    "        self.attr = []\n",
    "\n",
    "q1 = question()\n",
    "q2 = question()\n",
    "print (id(q1.attr))\n",
    "print(id(q2.attr))"
   ]
  },
  {
   "cell_type": "code",
   "execution_count": 245,
   "metadata": {
    "collapsed": false
   },
   "outputs": [
    {
     "name": "stdout",
     "output_type": "stream",
     "text": [
      "<class '__main__.Deck'>\n",
      "6 of Clubs\n",
      "Jack of Clubs\n",
      "Ace of Diamonds\n",
      "6 of Diamonds\n",
      "Jack of Spades\n"
     ]
    }
   ],
   "source": [
    "\"\"\"This module contains a code example related to\n",
    "\n",
    "Think Python, 2nd Edition\n",
    "by Allen Downey\n",
    "http://thinkpython2.com\n",
    "\n",
    "Copyright 2015 Allen Downey\n",
    "\n",
    "License: http://creativecommons.org/licenses/by/4.0/\n",
    "\"\"\"\n",
    "\n",
    "from __future__ import print_function, division\n",
    "\n",
    "import random\n",
    "\n",
    "\n",
    "class Card:\n",
    "    \"\"\"Represents a standard playing card.\n",
    "    \n",
    "    Attributes:\n",
    "      suit: integer 0-3\n",
    "      rank: integer 1-13\n",
    "    \"\"\"\n",
    "\n",
    "    suit_names = [\"Clubs\", \"Diamonds\", \"Hearts\", \"Spades\"]\n",
    "    rank_names = [None, \"Ace\", \"2\", \"3\", \"4\", \"5\", \"6\", \"7\", \n",
    "              \"8\", \"9\", \"10\", \"Jack\", \"Queen\", \"King\"]\n",
    "\n",
    "    def __init__(self, suit=0, rank=2):\n",
    "        self.suit = suit\n",
    "        self.rank = rank\n",
    "\n",
    "    def __str__(self):\n",
    "        \"\"\"Returns a human-readable string representation.\"\"\"\n",
    "        return '%s of %s' % (Card.rank_names[self.rank],\n",
    "                             Card.suit_names[self.suit])\n",
    "\n",
    "    def __eq__(self, other):\n",
    "        \"\"\"Checks whether self and other have the same rank and suit.\n",
    "\n",
    "        returns: boolean\n",
    "        \"\"\"\n",
    "        return self.suit == other.suit and self.rank == other.rank\n",
    "\n",
    "    def __lt__(self, other):\n",
    "        \"\"\"Compares this card to other, first by suit, then rank.\n",
    "\n",
    "        returns: boolean\n",
    "        \"\"\"\n",
    "        t1 = self.suit, self.rank\n",
    "        t2 = other.suit, other.rank\n",
    "        return t1 < t2\n",
    "\n",
    "\n",
    "class Deck:\n",
    "    \"\"\"Represents a deck of cards.\n",
    "\n",
    "    Attributes:\n",
    "      cards: list of Card objects.\n",
    "    \"\"\"\n",
    "    \n",
    "    def __init__(self):\n",
    "        \"\"\"Initializes the Deck with 52 cards.\n",
    "        \"\"\"\n",
    "        self.cards = []\n",
    "        for suit in range(4):\n",
    "            for rank in range(1, 14):\n",
    "                card = Card(suit, rank)\n",
    "                self.cards.append(card)\n",
    "\n",
    "    def __str__(self):\n",
    "        \"\"\"Returns a string representation of the deck.\n",
    "        \"\"\"\n",
    "        res = []\n",
    "        for card in self.cards:\n",
    "            res.append(str(card))\n",
    "        return '\\n'.join(res)\n",
    "\n",
    "    def add_card(self, card):\n",
    "        \"\"\"Adds a card to the deck.\n",
    "\n",
    "        card: Card\n",
    "        \"\"\"\n",
    "        self.cards.append(card)\n",
    "\n",
    "    def remove_card(self, card):\n",
    "        \"\"\"Removes a card from the deck or raises exception if it is not there.\n",
    "        \n",
    "        card: Card\n",
    "        \"\"\"\n",
    "        self.cards.remove(card)\n",
    "\n",
    "    def pop_card(self, i=-1):\n",
    "        \"\"\"Removes and returns a card from the deck.\n",
    "\n",
    "        i: index of the card to pop; by default, pops the last card.\n",
    "        \"\"\"\n",
    "        return self.cards.pop(i)\n",
    "\n",
    "    def shuffle(self):\n",
    "        \"\"\"Shuffles the cards in this deck.\"\"\"\n",
    "        random.shuffle(self.cards)\n",
    "\n",
    "    def sort(self):\n",
    "        \"\"\"Sorts the cards in ascending order.\"\"\"\n",
    "        self.cards.sort()\n",
    "\n",
    "    def move_cards(self, hand, num):\n",
    "        \"\"\"Moves the given number of cards from the deck into the Hand.\n",
    "\n",
    "        hand: destination Hand object\n",
    "        num: integer number of cards to move\n",
    "        \"\"\"\n",
    "        for i in range(num):\n",
    "            hand.add_card(self.pop_card())\n",
    "\n",
    "\n",
    "class Hand(Deck):\n",
    "    \"\"\"Represents a hand of playing cards.\"\"\"\n",
    "    \n",
    "    def __init__(self, label=''):\n",
    "        self.cards = []\n",
    "        self.label = label\n",
    "\n",
    "\n",
    "def find_defining_class(obj, method_name):\n",
    "    \"\"\"Finds and returns the class object that will provide \n",
    "    the definition of method_name (as a string) if it is\n",
    "    invoked on obj.\n",
    "\n",
    "    obj: any python object\n",
    "    method_name: string method name\n",
    "    \"\"\"\n",
    "    for ty in type(obj).mro():\n",
    "        if method_name in ty.__dict__:\n",
    "            return ty\n",
    "    return None\n",
    "\n",
    "\n",
    "if __name__ == '__main__':\n",
    "    deck = Deck()\n",
    "    deck.shuffle()\n",
    "\n",
    "    hand = Hand()\n",
    "    print(find_defining_class(hand, 'shuffle'))\n",
    "\n",
    "    deck.move_cards(hand, 5)\n",
    "    hand.sort()\n",
    "    print(hand)"
   ]
  },
  {
   "cell_type": "code",
   "execution_count": 247,
   "metadata": {
    "collapsed": false
   },
   "outputs": [
    {
     "ename": "ImportError",
     "evalue": "No module named 'Card'",
     "output_type": "error",
     "traceback": [
      "\u001b[1;31m---------------------------------------------------------------------------\u001b[0m",
      "\u001b[1;31mImportError\u001b[0m                               Traceback (most recent call last)",
      "\u001b[1;32m<ipython-input-247-cc9c455765fd>\u001b[0m in \u001b[0;36m<module>\u001b[1;34m()\u001b[0m\n\u001b[0;32m     12\u001b[0m \u001b[1;32mfrom\u001b[0m \u001b[0m__future__\u001b[0m \u001b[1;32mimport\u001b[0m \u001b[0mprint_function\u001b[0m\u001b[1;33m,\u001b[0m \u001b[0mdivision\u001b[0m\u001b[1;33m\u001b[0m\u001b[0m\n\u001b[0;32m     13\u001b[0m \u001b[1;33m\u001b[0m\u001b[0m\n\u001b[1;32m---> 14\u001b[1;33m \u001b[1;32mfrom\u001b[0m \u001b[0mCard\u001b[0m \u001b[1;32mimport\u001b[0m \u001b[0mHand\u001b[0m\u001b[1;33m,\u001b[0m \u001b[0mDeck\u001b[0m\u001b[1;33m\u001b[0m\u001b[0m\n\u001b[0m\u001b[0;32m     15\u001b[0m \u001b[1;33m\u001b[0m\u001b[0m\n\u001b[0;32m     16\u001b[0m \u001b[1;33m\u001b[0m\u001b[0m\n",
      "\u001b[1;31mImportError\u001b[0m: No module named 'Card'"
     ]
    }
   ],
   "source": [
    "\"\"\"This module contains a code example related to\n",
    "\n",
    "Think Python, 2nd Edition\n",
    "by Allen Downey\n",
    "http://thinkpython2.com\n",
    "\n",
    "Copyright 2015 Allen Downey\n",
    "\n",
    "License: http://creativecommons.org/licenses/by/4.0/\n",
    "\"\"\"\n",
    "\n",
    "from __future__ import print_function, division\n",
    "\n",
    "from Card import Hand, Deck\n",
    "\n",
    "\n",
    "class PokerHand(Hand):\n",
    "    \"\"\"Represents a poker hand.\"\"\"\n",
    "\n",
    "    def suit_hist(self):\n",
    "        \"\"\"Builds a histogram of the suits that appear in the hand.\n",
    "\n",
    "        Stores the result in attribute suits.\n",
    "        \"\"\"\n",
    "        self.suits = {}\n",
    "        for card in self.cards:\n",
    "            self.suits[card.suit] = self.suits.get(card.suit, 0) + 1\n",
    "\n",
    "    def has_flush(self):\n",
    "        \"\"\"Returns True if the hand has a flush, False otherwise.\n",
    "      \n",
    "        Note that this works correctly for hands with more than 5 cards.\n",
    "        \"\"\"\n",
    "        self.suit_hist()\n",
    "        for val in self.suits.values():\n",
    "            if val >= 5:\n",
    "                return True\n",
    "        return False\n",
    "\n",
    "\n",
    "if __name__ == '__main__':\n",
    "    # make a deck\n",
    "    deck = Deck()\n",
    "    deck.shuffle()\n",
    "\n",
    "    # deal the cards and classify the hands\n",
    "    for i in range(7):\n",
    "        hand = PokerHand()\n",
    "        deck.move_cards(hand, 7)\n",
    "        hand.sort()\n",
    "        print(hand)\n",
    "        print(hand.has_flush())\n",
    "        print('')\n"
   ]
  },
  {
   "cell_type": "code",
   "execution_count": null,
   "metadata": {
    "collapsed": true
   },
   "outputs": [],
   "source": []
  }
 ],
 "metadata": {
  "kernelspec": {
   "display_name": "Python [Root]",
   "language": "python",
   "name": "Python [Root]"
  },
  "language_info": {
   "codemirror_mode": {
    "name": "ipython",
    "version": 3
   },
   "file_extension": ".py",
   "mimetype": "text/x-python",
   "name": "python",
   "nbconvert_exporter": "python",
   "pygments_lexer": "ipython3",
   "version": "3.5.2"
  }
 },
 "nbformat": 4,
 "nbformat_minor": 0
}
