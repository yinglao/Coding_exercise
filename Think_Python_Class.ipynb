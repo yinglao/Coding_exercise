{
 "cells": [
  {
   "cell_type": "markdown",
   "metadata": {},
   "source": [
    "# Class and object"
   ]
  },
  {
   "cell_type": "code",
   "execution_count": 1,
   "metadata": {
    "collapsed": true
   },
   "outputs": [],
   "source": [
    "import numpy as np"
   ]
  },
  {
   "cell_type": "code",
   "execution_count": 184,
   "metadata": {},
   "outputs": [],
   "source": [
    "class Point():\n",
    "    '''Represent a point in 2D space'''\n",
    "    def __str__(self):\n",
    "        return '({0},{1})'.format(self.x, self.y)\n",
    "\n",
    "def print_point(P):\n",
    "    print((P.x, P.y))"
   ]
  },
  {
   "cell_type": "code",
   "execution_count": 31,
   "metadata": {},
   "outputs": [
    {
     "data": {
      "text/plain": [
       "<__main__.Point at 0x25ed0230630>"
      ]
     },
     "execution_count": 31,
     "metadata": {},
     "output_type": "execute_result"
    }
   ],
   "source": [
    "Point()"
   ]
  },
  {
   "cell_type": "code",
   "execution_count": 186,
   "metadata": {},
   "outputs": [
    {
     "name": "stdout",
     "output_type": "stream",
     "text": [
      "(3.0,4.0)\n"
     ]
    }
   ],
   "source": [
    "p1 = Point()\n",
    "p1.x = 3.0\n",
    "p1.y = 4.0\n",
    "print (p1)"
   ]
  },
  {
   "cell_type": "code",
   "execution_count": 14,
   "metadata": {},
   "outputs": [
    {
     "name": "stdout",
     "output_type": "stream",
     "text": [
      "(3.0, 4.0)\n"
     ]
    },
    {
     "data": {
      "text/plain": [
       "False"
      ]
     },
     "execution_count": 14,
     "metadata": {},
     "output_type": "execute_result"
    }
   ],
   "source": [
    "import copy\n",
    "p2 = copy.copy(p1)\n",
    "print_point(p1)\n",
    "p1 == p2\n",
    "p1 is p2"
   ]
  },
  {
   "cell_type": "code",
   "execution_count": 32,
   "metadata": {},
   "outputs": [
    {
     "data": {
      "text/plain": [
       "<__main__.Box at 0x25ed02308d0>"
      ]
     },
     "execution_count": 32,
     "metadata": {},
     "output_type": "execute_result"
    }
   ],
   "source": [
    "class Box():\n",
    "    '''represent a rectangle in 2D space'''\n",
    "\n",
    "box = Box()\n",
    "Box()\n"
   ]
  },
  {
   "cell_type": "code",
   "execution_count": 33,
   "metadata": {
    "collapsed": true
   },
   "outputs": [],
   "source": [
    "box.width = 100\n",
    "box.height = 200\n",
    "box.corner = Point()\n",
    "box.corner.x = 0\n",
    "box.corner.y = 0"
   ]
  },
  {
   "cell_type": "code",
   "execution_count": 34,
   "metadata": {},
   "outputs": [
    {
     "data": {
      "text/plain": [
       "False"
      ]
     },
     "execution_count": 34,
     "metadata": {},
     "output_type": "execute_result"
    }
   ],
   "source": [
    "box2 = copy.copy(box)\n",
    "box2 is box"
   ]
  },
  {
   "cell_type": "code",
   "execution_count": 35,
   "metadata": {},
   "outputs": [
    {
     "data": {
      "text/plain": [
       "True"
      ]
     },
     "execution_count": 35,
     "metadata": {},
     "output_type": "execute_result"
    }
   ],
   "source": [
    "box2.corner == box.corner"
   ]
  },
  {
   "cell_type": "code",
   "execution_count": 36,
   "metadata": {
    "collapsed": true
   },
   "outputs": [],
   "source": [
    "box3 = copy.deepcopy(box)"
   ]
  },
  {
   "cell_type": "code",
   "execution_count": 37,
   "metadata": {},
   "outputs": [
    {
     "data": {
      "text/plain": [
       "False"
      ]
     },
     "execution_count": 37,
     "metadata": {},
     "output_type": "execute_result"
    }
   ],
   "source": [
    "box3.corner == box.corner"
   ]
  },
  {
   "cell_type": "code",
   "execution_count": 38,
   "metadata": {
    "collapsed": true
   },
   "outputs": [],
   "source": [
    "def move_rectangle(box, dx, dy):\n",
    "    box_copy = copy.deepcopy(box)\n",
    "    box_copy.corner.x += dx\n",
    "    box_copy.corner.y += dy\n",
    "    return box_copy\n",
    "    "
   ]
  },
  {
   "cell_type": "code",
   "execution_count": 43,
   "metadata": {},
   "outputs": [
    {
     "data": {
      "text/plain": [
       "10"
      ]
     },
     "execution_count": 43,
     "metadata": {},
     "output_type": "execute_result"
    }
   ],
   "source": [
    "box4 = move_rectangle(box, 10,20)\n",
    "box4.corner.x"
   ]
  },
  {
   "cell_type": "markdown",
   "metadata": {},
   "source": [
    "# Classes and Functions"
   ]
  },
  {
   "cell_type": "code",
   "execution_count": 179,
   "metadata": {},
   "outputs": [],
   "source": [
    "def int_to_time(seconds):\n",
    "    result = Time()\n",
    "    result.hour = seconds//3600\n",
    "    result.minute = (seconds % 3600) // 60\n",
    "    result.second = (seconds % 3600) % 60\n",
    "    return result\n",
    "\n",
    "class Time:\n",
    "    '''represent the time of day.\n",
    "    attributes: hour, minute, second'''\n",
    "    def __init__(self, hour = 0 , minute = 0, second = 0):\n",
    "        self.hour = hour\n",
    "        self.minute = minute\n",
    "        self.second = second\n",
    "    def __str__(self):\n",
    "        return '{0:02d}:{1:02d}:{2:02d}'.format(self.hour, self.minute, self.second)\n",
    "    def print_time(self):\n",
    "        print ('{0:02d}:{1:02d}:{2:02d}'.format(self.hour, self.minute, self.second))\n",
    "    def time_to_int(self):\n",
    "        seconds = self.hour * 3600 + self.minute * 60 + self.second\n",
    "        return seconds\n",
    "    def increment(self, seconds):\n",
    "        seconds += self.time_to_int()\n",
    "        result = int_to_time(seconds)\n",
    "        return result\n",
    "    def is_after(self, other):\n",
    "        return self.time_to_int() > other.time_to_int()\n",
    "        \n",
    "\n",
    "    \n",
    "    \n",
    "    \n",
    "time = Time()\n",
    "time.hour = 11\n",
    "time.minute = 59\n",
    "time.second = 30\n",
    "\n",
    "def print_time(time):\n",
    "    print ('{0:02d}:{1:02d}:{2:02d}'.format(time.hour, time.minute, time.second))\n",
    "    "
   ]
  },
  {
   "cell_type": "code",
   "execution_count": 180,
   "metadata": {},
   "outputs": [
    {
     "name": "stdout",
     "output_type": "stream",
     "text": [
      "11:59:30\n"
     ]
    }
   ],
   "source": [
    "print_time(time)"
   ]
  },
  {
   "cell_type": "code",
   "execution_count": 123,
   "metadata": {
    "collapsed": true
   },
   "outputs": [],
   "source": [
    "# pure function\n",
    "def add_time(t1, t2):\n",
    "    sum = Time()\n",
    "    sum.hour = t1.hour + t2.hour\n",
    "    sum.minute = t1.minute + t2.minute\n",
    "    sum.second = t1.second + t2.second\n",
    "    if sum.second >= 60:\n",
    "        sum.second -= 60\n",
    "        sum.minute += 1\n",
    "    if sum.minute >= 60:\n",
    "        sum.minute -= 60\n",
    "        sum.hour += 1\n",
    "    return sum"
   ]
  },
  {
   "cell_type": "code",
   "execution_count": 124,
   "metadata": {
    "collapsed": true
   },
   "outputs": [],
   "source": [
    "t1 = Time()\n",
    "t1.hour = 9\n",
    "t1.minute = 25\n",
    "t1.second = 0\n",
    "t2 = Time()\n",
    "t2.hour = 1\n",
    "t2.minute = 45\n",
    "t2.second = 0"
   ]
  },
  {
   "cell_type": "code",
   "execution_count": 125,
   "metadata": {},
   "outputs": [
    {
     "name": "stdout",
     "output_type": "stream",
     "text": [
      "11:10:00\n"
     ]
    }
   ],
   "source": [
    "print_time(add_time(t1, t2))"
   ]
  },
  {
   "cell_type": "code",
   "execution_count": 126,
   "metadata": {
    "collapsed": true
   },
   "outputs": [],
   "source": [
    "def increment(time, seconds):\n",
    "    seconds += time.hour * 3600 + time.minute * 60 + time.second\n",
    "    time.hour = seconds // 3600\n",
    "    time.minute = (seconds % 3600) // 60\n",
    "    time.second = (seconds % 3600) % 60\n",
    "    "
   ]
  },
  {
   "cell_type": "code",
   "execution_count": 130,
   "metadata": {},
   "outputs": [
    {
     "name": "stdout",
     "output_type": "stream",
     "text": [
      "10:25:00\n"
     ]
    }
   ],
   "source": [
    "print_time(t1)"
   ]
  },
  {
   "cell_type": "code",
   "execution_count": 131,
   "metadata": {},
   "outputs": [
    {
     "name": "stdout",
     "output_type": "stream",
     "text": [
      "11:25:00\n"
     ]
    }
   ],
   "source": [
    "increment(t1, 3600)\n",
    "print_time(t1)"
   ]
  },
  {
   "cell_type": "markdown",
   "metadata": {},
   "source": [
    "# object oriented features"
   ]
  },
  {
   "cell_type": "code",
   "execution_count": 132,
   "metadata": {},
   "outputs": [
    {
     "name": "stdout",
     "output_type": "stream",
     "text": [
      "11:59:30\n",
      "11:59:30\n"
     ]
    }
   ],
   "source": [
    "Time.print_time(t1)\n",
    "t1.print_time()"
   ]
  },
  {
   "cell_type": "code",
   "execution_count": 164,
   "metadata": {
    "collapsed": true
   },
   "outputs": [],
   "source": [
    "start = Time()\n",
    "start.hour = 9\n",
    "start.minute = 45\n",
    "start.second = 0\n",
    "\n",
    "end = start.increment(10)"
   ]
  },
  {
   "cell_type": "code",
   "execution_count": 165,
   "metadata": {},
   "outputs": [
    {
     "name": "stdout",
     "output_type": "stream",
     "text": [
      "09:45:00\n"
     ]
    }
   ],
   "source": [
    "start.print_time()"
   ]
  },
  {
   "cell_type": "code",
   "execution_count": 166,
   "metadata": {},
   "outputs": [
    {
     "data": {
      "text/plain": [
       "35100"
      ]
     },
     "execution_count": 166,
     "metadata": {},
     "output_type": "execute_result"
    }
   ],
   "source": [
    "start.time_to_int()"
   ]
  },
  {
   "cell_type": "code",
   "execution_count": 167,
   "metadata": {},
   "outputs": [
    {
     "name": "stdout",
     "output_type": "stream",
     "text": [
      "10:07:17\n"
     ]
    }
   ],
   "source": [
    "start.increment(1337).print_time()"
   ]
  },
  {
   "cell_type": "code",
   "execution_count": 168,
   "metadata": {},
   "outputs": [
    {
     "data": {
      "text/plain": [
       "True"
      ]
     },
     "execution_count": 168,
     "metadata": {},
     "output_type": "execute_result"
    }
   ],
   "source": [
    "end.is_after(start)"
   ]
  },
  {
   "cell_type": "code",
   "execution_count": 181,
   "metadata": {},
   "outputs": [
    {
     "name": "stdout",
     "output_type": "stream",
     "text": [
      "09:10:00\n"
     ]
    }
   ],
   "source": [
    "time = Time(9,10)\n",
    "time.print_time()"
   ]
  },
  {
   "cell_type": "code",
   "execution_count": 183,
   "metadata": {},
   "outputs": [
    {
     "name": "stdout",
     "output_type": "stream",
     "text": [
      "09:10:00\n"
     ]
    }
   ],
   "source": [
    "print (time)"
   ]
  },
  {
   "cell_type": "code",
   "execution_count": null,
   "metadata": {
    "collapsed": true
   },
   "outputs": [],
   "source": []
  }
 ],
 "metadata": {
  "kernelspec": {
   "display_name": "Python 3",
   "language": "python",
   "name": "python3"
  },
  "language_info": {
   "codemirror_mode": {
    "name": "ipython",
    "version": 3
   },
   "file_extension": ".py",
   "mimetype": "text/x-python",
   "name": "python",
   "nbconvert_exporter": "python",
   "pygments_lexer": "ipython3",
   "version": "3.6.1"
  }
 },
 "nbformat": 4,
 "nbformat_minor": 2
}
